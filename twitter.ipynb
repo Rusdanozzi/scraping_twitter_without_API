{
 "cells": [
  {
   "cell_type": "code",
   "execution_count": 25,
   "metadata": {},
   "outputs": [],
   "source": [
    "from selenium import webdriver\n",
    "from selenium.webdriver.common.by import By\n",
    "from selenium.webdriver.common.keys import Keys\n",
    "from selenium.webdriver.support import expected_conditions as EC\n",
    "from selenium.webdriver.support.ui import WebDriverWait\n",
    "from bs4 import BeautifulSoup\n",
    "import time\n",
    "from selenium.webdriver.chrome.options import Options"
   ]
  },
  {
   "cell_type": "code",
   "execution_count": 26,
   "metadata": {},
   "outputs": [],
   "source": [
    "# keyword = input('Masukan Keyword: ')\n",
    "# since = input('Masukan Tanggal Mulai Pencarian (YYY-MM-DD): ')\n",
    "# until = input('Masukan Tanggal berakhir Pencarian (YYY-MM-DD): ')\n",
    "# jumlah_tweet = 20"
   ]
  },
  {
   "cell_type": "code",
   "execution_count": 27,
   "metadata": {},
   "outputs": [],
   "source": [
    "keyword = 'coldplay'\n",
    "since = '2022-01-01'\n",
    "until = '2022-12-31'\n",
    "jumlah_tweet = 20"
   ]
  },
  {
   "cell_type": "code",
   "execution_count": 28,
   "metadata": {},
   "outputs": [
    {
     "name": "stderr",
     "output_type": "stream",
     "text": [
      "C:\\Users\\PYC-DIS\\AppData\\Local\\Temp\\ipykernel_8068\\419732181.py:4: DeprecationWarning: executable_path has been deprecated, please pass in a Service object\n",
      "  driver = webdriver.Chrome(\n"
     ]
    }
   ],
   "source": [
    "chrome_options = Options()\n",
    "chrome_options.add_argument(\"user-data-dir=C:/Users/PYC-DIS/AppData/Local/Google/Chrome/User Data\")\n",
    "chrome_options.add_argument(\"--profile-directory=profile 11\")\n",
    "driver = webdriver.Chrome(\n",
    "        executable_path='driver\\chromedriver.exe',\n",
    "        options=chrome_options)\n",
    "\n",
    "driver.get('https://twitter.com/explore')\n",
    "time.sleep(2)"
   ]
  },
  {
   "cell_type": "code",
   "execution_count": 29,
   "metadata": {},
   "outputs": [],
   "source": [
    "search = driver.find_element(By.XPATH,\"//input[@placeholder='Search Twitter']\")\n",
    "search.send_keys(f\"{keyword} until:{until} since:{since}\")\n",
    "search.send_keys(Keys.ENTER)\n",
    "time.sleep(2)"
   ]
  },
  {
   "cell_type": "code",
   "execution_count": 30,
   "metadata": {},
   "outputs": [],
   "source": [
    "#Imports the HTML into python\n",
    "soup = BeautifulSoup(driver.page_source, 'lxml')"
   ]
  },
  {
   "cell_type": "code",
   "execution_count": 31,
   "metadata": {},
   "outputs": [],
   "source": [
    "postings = soup.find_all('div',class_ = 'css-901oao r-18jsvk2 r-37j5jr r-a023e6 r-16dba41 r-rjixqe r-bcqeeo r-bnwqim r-qvutc0')\n",
    "\n"
   ]
  },
  {
   "cell_type": "code",
   "execution_count": 32,
   "metadata": {},
   "outputs": [],
   "source": [
    "tweets = []\n",
    "while True:\n",
    "    for post in postings:\n",
    "        tweets.append(post.text)\n",
    "    driver.execute_script('window.scrollTo(0, document.body.scrollHeight)')\n",
    "    time.sleep(1)\n",
    "    soup = BeautifulSoup(driver.page_source, 'lxml')\n",
    "    postings = soup.find_all('div',class_ = 'css-901oao r-18jsvk2 r-37j5jr r-a023e6 r-16dba41 r-rjixqe r-bcqeeo r-bnwqim r-qvutc0')\n",
    "    tweets2 = list(set(tweets))\n",
    "    if len(tweets2) > jumlah_tweet:\n",
    "        break"
   ]
  },
  {
   "cell_type": "code",
   "execution_count": 33,
   "metadata": {},
   "outputs": [],
   "source": [
    "#Subsets our list of tweets to only contain the tweets with a specific word located in it\n",
    "new_tweets = []    \n",
    "for i in tweets2:\n",
    "    #To change that specific word just input into the string below\n",
    "    if '' in i:\n",
    "        new_tweets.append(i)"
   ]
  },
  {
   "cell_type": "code",
   "execution_count": 34,
   "metadata": {},
   "outputs": [
    {
     "data": {
      "text/plain": [
       "['Trouble || Coldplay',\n",
       " 'Coldplay meets Guillermo Francella',\n",
       " 'Yellow by Coldplay.',\n",
       " ' ALBUMS ON W RLDWIDE ITUNES\\n Phantom - The 4th Mini Album #WayV\\n25 #Adele\\nGold #ABBA\\nRandom Access Memories #DaftPunk\\n21 #adele\\nGhost Stories #Coldplay\\nMidnights #TaylorSwift\\nChristmas #MichaelBublé\\nA Head Full of Dreams #coldplay\\n1989 #TaylorSwift',\n",
       " 'MJ huwa overrated kiplani.\\n\\nYes, he is great, but kuna watu wamemtoa vibaya sana.\\n\\nColdplay\\nTina Turner\\nThe Weeknd\\nMadonna\\nAC/DC\\nTaylor Swift\\nBruce Springsteen\\n\\nNa tusisahau BTS.\\n\\nPeople who can reach that potential sahii ni Bad Bunny and those BTS singers',\n",
       " \"#Coldplay #CharlieBrown\\nWe'll run wild,\\nWe'll be glowing in the dark\\n#team_musicLov3rs\",\n",
       " 'Happy return and I agree on Coldplay. \\nIn NL we have a band called De Dijk. Even more boooring and overrated haha.',\n",
       " 'Slow Horses s2 absolutely fantastic from start to finish. Even the gratuitous Coldplay at the end couldn’t diminish it.',\n",
       " 'The underrated masterpiece \\n-\\n-\\n#Coldplay',\n",
       " 'Watching Stoke these days is the football equivalent of listening to Coldplay',\n",
       " 'how similar is our music taste?\\n\\n10% florence and the machine\\n10% taylor swift\\n10% lana del rey\\n10% bastille\\n10% sleeping at last\\n10% coldplay\\n10% one republic\\n10% m83\\n10% nickelback\\n10% daughtry',\n",
       " 'Cerati\\nColdplay\\nPink Floyd\\nGuns and Roses\\nCanserbero',\n",
       " '#Spotify Top 00s Songs (12/29)\\n\\nMockingbird @Eminem 2.57m\\n505 @ArcticMonkeys 1.43m\\nWithout Me 1.35m\\nYellow @coldplay 1.32m\\nViva La Vida 1.26m \\nSuperman 1.25m\\nThe Real Slim Shady 1.18m\\nSomewhere Only We Know #Keane 1.03m\\nLose Yourself 1m\\nTill I Collapse 911K\\nMr. Brightside 884k',\n",
       " 'My universe y Yet to come son tremendas canciones ',\n",
       " \"Ok pero Fix You de coldplay y You're On Your Own, Kid de Taylor Swift tienen las mismas vibes y no me van a cambiar la mente\",\n",
       " '#RIDETHECYCLONE | little gift for @Lynnden_Tree !! \\n\\nride the cyclone as viva la vida by coldplay!!',\n",
       " 'I also listen to mortician, morbid angel, fear factory, MCR, Gwar, suicide silence, the smiths, mitski, Green Day, Three days grace, Slipknot, combichrist, drowning pool, slayer, Coldplay, Alex g, Rob zombie, and Metallica \\nPLZ TELL ME SOMEONE HAS ONE OF THOSE IN COMMON',\n",
       " 'What id do to see coldplay again live',\n",
       " 'Strawberry swing \\nColdplay \\n#noplaylist',\n",
       " 'Music of the Spheres- Coldplay',\n",
       " \"I'm about to take so much flack but it's ok..... \\n\\nColdplay's first three albums were the tits.  They were so good.  So beautiful.  Especially the first album.  \\n\\nOk. Commence the throwing of virtual fruit at me for my wildly unpopular musical take.\",\n",
       " 'Our mission is to help developers reach their potential and change the world. Get your free eBook here.',\n",
       " 'Coldplay\\nOr\\nMaroon 5 ?',\n",
       " 'ughhhhgh coldplay',\n",
       " 'bruno e coldplay']"
      ]
     },
     "execution_count": 34,
     "metadata": {},
     "output_type": "execute_result"
    }
   ],
   "source": [
    "new_tweets"
   ]
  },
  {
   "cell_type": "code",
   "execution_count": 35,
   "metadata": {},
   "outputs": [],
   "source": [
    "driver.quit()"
   ]
  }
 ],
 "metadata": {
  "kernelspec": {
   "display_name": "Python 3",
   "language": "python",
   "name": "python3"
  },
  "language_info": {
   "codemirror_mode": {
    "name": "ipython",
    "version": 3
   },
   "file_extension": ".py",
   "mimetype": "text/x-python",
   "name": "python",
   "nbconvert_exporter": "python",
   "pygments_lexer": "ipython3",
   "version": "3.11.1"
  },
  "orig_nbformat": 4
 },
 "nbformat": 4,
 "nbformat_minor": 2
}
