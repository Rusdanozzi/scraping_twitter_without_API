{
 "cells": [
  {
   "cell_type": "code",
   "execution_count": 11,
   "id": "cbaa2e3f",
   "metadata": {},
   "outputs": [],
   "source": [
    "import csv\n",
    "import requests\n",
    "from bs4 import BeautifulSoup"
   ]
  },
  {
   "cell_type": "code",
   "execution_count": 12,
   "id": "0d6b23cf",
   "metadata": {},
   "outputs": [],
   "source": [
    "def scrape_tweets(username):\n",
    "    url = f\"https://twitter.com/{username}\"\n",
    "    response = requests.get(url)\n",
    "    soup = BeautifulSoup(response.content, \"html.parser\")\n",
    "    tweets = soup.find_all(\"div\", class_=\"tweet\")\n",
    "\n",
    "    with open(\"tweets.csv\", \"w\", newline=\"\", encoding=\"utf-8\") as csvfile:\n",
    "        writer = csv.writer(csvfile)\n",
    "        writer.writerow([\"Text\", \"Timestamp\"])\n",
    "\n",
    "        for tweet in tweets:\n",
    "            text = tweet.find(\"div\", class_=\"tweet-text\").text\n",
    "            timestamp = tweet.find(\"a\", class_=\"tweet-timestamp\")[\"title\"]\n",
    "            writer.writerow([text, timestamp])\n",
    "\n",
    "# Usage example\n",
    "scrape_tweets(\"Hasbil_Lbs\")"
   ]
  },
  {
   "cell_type": "code",
   "execution_count": null,
   "id": "7693a46b",
   "metadata": {},
   "outputs": [],
   "source": []
  }
 ],
 "metadata": {
  "kernelspec": {
   "display_name": "Python 3 (ipykernel)",
   "language": "python",
   "name": "python3"
  },
  "language_info": {
   "codemirror_mode": {
    "name": "ipython",
    "version": 3
   },
   "file_extension": ".py",
   "mimetype": "text/x-python",
   "name": "python",
   "nbconvert_exporter": "python",
   "pygments_lexer": "ipython3",
   "version": "3.11.1"
  }
 },
 "nbformat": 4,
 "nbformat_minor": 5
}
